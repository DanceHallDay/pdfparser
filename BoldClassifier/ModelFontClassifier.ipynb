{
 "cells": [
  {
   "cell_type": "markdown",
   "id": "7724da9f",
   "metadata": {},
   "source": [
    "### Code for model"
   ]
  },
  {
   "cell_type": "code",
   "execution_count": 1,
   "id": "4bc7645a",
   "metadata": {},
   "outputs": [],
   "source": [
    "from generator import RenderedTextGenerator\n",
    "from model import *\n",
    "import os\n",
    "import torch\n",
    "import copy\n",
    "import time\n",
    "import numpy as np\n",
    "import torch.optim as optim\n",
    "import torch.nn as nn\n",
    "import matplotlib.pyplot as plt\n",
    "from torch.utils.data import Dataset, DataLoader\n",
    "from skimage import io, img_as_float\n",
    "import albumentations as A\n",
    "import cv2\n",
    "from albumentations.pytorch import ToTensorV2\n",
    "os.environ['CUDA_LAUNCH_BLOCKING'] = '1'"
   ]
  },
  {
   "cell_type": "code",
   "execution_count": 2,
   "id": "4d7a75fa",
   "metadata": {},
   "outputs": [],
   "source": [
    "class DatasetGenerator(Dataset):\n",
    "    def __init__(self, text_generator, transform=None, num_words : int = 8):\n",
    "        super(DatasetGenerator, self).__init__()\n",
    "        self.text_generator = text_generator\n",
    "        self.transform = transform\n",
    "        self.num_words = num_words\n",
    "        \n",
    "    def __len__(self):\n",
    "        return 124\n",
    "    \n",
    "    def __getitem__(self, idx):\n",
    "        imgs, labels = self.text_generator.render_text()\n",
    "        \n",
    "        if self.transform is not None:\n",
    "            return torch.stack(\n",
    "                [self.transform(image = imgs[i, :, :, :3])['image'].float() for i in range(self.num_words)]), torch.tensor(labels)\n",
    "        \n",
    "        return torch.tensor(imgs), torch.tensor(labels)\n",
    "    \n",
    "def worker_init_fn(worker_id):\n",
    "    torch_seed = torch.initial_seed()\n",
    "    if torch_seed >= 2**30:  # make sure torch_seed + workder_id < 2**32\n",
    "        torch_seed = torch_seed % 2**30\n",
    "    random.seed(torch_seed + worker_id)\n",
    "    np.random.seed(torch_seed + worker_id)\n",
    "    \n",
    "    \n",
    "def train_model(model, dataloaders, criterion, optimizer, num_epochs=25):\n",
    "    since = time.time()\n",
    "\n",
    "    val_acc_history = []\n",
    "\n",
    "    best_model_wts = copy.deepcopy(model.state_dict())\n",
    "    best_acc = 0.0\n",
    "\n",
    "    for epoch in range(num_epochs):\n",
    "        print('Epoch {}/{}'.format(epoch, num_epochs - 1))\n",
    "        print('-' * 10)\n",
    "\n",
    "        for phase in ['train', 'val']:\n",
    "            if phase == 'train':\n",
    "                model.train()  \n",
    "            else:\n",
    "                model.eval()   \n",
    "\n",
    "            running_loss = 0.0\n",
    "            running_corrects = 0\n",
    "\n",
    "            for inputs, labels in dataloaders[phase]:\n",
    "                inputs = inputs.to(device)\n",
    "                labels = labels.to(device)\n",
    "                \n",
    "                optimizer.zero_grad()\n",
    "                \n",
    "                with torch.set_grad_enabled(phase == 'train'):\n",
    "                    outputs = model(inputs)\n",
    "                    loss = torch.tensor([0.])\n",
    "                    loss = loss.to(device)\n",
    "                    for i in range(outputs.shape[0]):\n",
    "                        loss += criterion(outputs[i], labels[i])#C\n",
    "                        \n",
    "                    _, preds = torch.max(outputs, 2)\n",
    "                    #print(preds)\n",
    "                        \n",
    "                    if phase == 'train':\n",
    "                        loss.backward()\n",
    "                        optimizer.step()\n",
    "                running_loss += loss.item() * inputs.size(0)\n",
    "                running_corrects += torch.sum(preds == labels.data)\n",
    "\n",
    "            epoch_loss = running_loss / len(dataloaders[phase].dataset)\n",
    "            epoch_acc = running_corrects.double() / len(dataloaders[phase].dataset) / 8\n",
    "\n",
    "            print('{} Loss: {:.4f} Acc: {:.4f}'.format(phase, epoch_loss, epoch_acc))\n",
    "\n",
    "            if phase == 'val' and epoch_acc > best_acc:\n",
    "                best_acc = epoch_acc\n",
    "                best_model_wts = copy.deepcopy(model.state_dict())\n",
    "            if phase == 'val':\n",
    "                pass\n",
    "                val_acc_history.append(epoch_acc.detach().cpu().clone().numpy())\n",
    "\n",
    "        print()\n",
    "\n",
    "    time_elapsed = time.time() - since\n",
    "    print('Training complete in {:.0f}m {:.0f}s'.format(time_elapsed // 60, time_elapsed % 60))\n",
    "    print('Best val Acc: {:4f}'.format(best_acc))\n",
    "\n",
    "    \n",
    "    model.load_state_dict(best_model_wts)\n",
    "    return model, val_acc_history    "
   ]
  },
  {
   "cell_type": "code",
   "execution_count": 3,
   "id": "c5a470d2",
   "metadata": {},
   "outputs": [],
   "source": [
    "rtg = RenderedTextGenerator(batch_size=1, fontsize_range=(10, 22), fonts_folder='fonts/', img_shape=(224, 224),\n",
    "                            fonttype='bold')\n",
    "\n",
    "input_size = 224\n",
    "train_transform = A.Compose([\n",
    "    A.ShiftScaleRotate(shift_limit = 0.05, scale_limit = 0.05, rotate_limit = 0.05, p = 0.5),\n",
    "    A.SmallestMaxSize(max_size=input_size),\n",
    "    #A.RandomCrop(height=input_size, width=input_size),\n",
    "    A.RGBShift(r_shift_limit=0.7, g_shift_limit=0.7, b_shift_limit=0.7, p = 0.5),\n",
    "    A.Normalize(mean=(0.485, 0.456, 0.406), std=(0.229, 0.224, 0.225)),\n",
    "    ToTensorV2(),\n",
    "])\n",
    "\n",
    "dataset_gen = DatasetGenerator(rtg, train_transform)\n",
    "\n",
    "val_transform = A.Compose([\n",
    "        A.SmallestMaxSize(max_size=input_size),\n",
    "        #A.CenterCrop(height=input_size, width=input_size),\n",
    "        A.Normalize(mean=(0.485, 0.456, 0.406), std=(0.229, 0.224, 0.225)), \n",
    "        ToTensorV2(),\n",
    "])\n",
    "\n",
    "val_dataset_gen = DatasetGenerator(rtg, val_transform)\n",
    "\n",
    "train_dataloader = DataLoader(dataset_gen, batch_size=16,worker_init_fn=worker_init_fn)\n",
    "val_dataloader = DataLoader(val_dataset_gen, batch_size=16, worker_init_fn=worker_init_fn)\n",
    "\n",
    "dataloaders_dict = {'train' : train_dataloader,\n",
    "                  'val': val_dataloader\n",
    "}\n",
    "\n",
    "model = BoldClassifier() \n",
    "\n",
    "criterion = nn.CrossEntropyLoss()\n",
    "\n",
    "optimizer = optim.Adam(model.parameters(), lr=0.001)\n",
    "device = torch.device(\"cuda:0\" if torch.cuda.is_available() else \"cpu\")"
   ]
  },
  {
   "cell_type": "code",
   "execution_count": null,
   "id": "4fbd424c",
   "metadata": {
    "scrolled": true
   },
   "outputs": [],
   "source": [
    "model = model.to(device).float()\n",
    "model, history= train_model(model,\n",
    "                              dataloaders_dict, \n",
    "                              criterion,\n",
    "                              optimizer,\n",
    "                              num_epochs=20\n",
    ")"
   ]
  },
  {
   "cell_type": "code",
   "execution_count": null,
   "id": "06052510",
   "metadata": {},
   "outputs": [],
   "source": [
    "a = torch.tensor([[0., 100.]])\n",
    "b = torch.tensor([1])\n",
    "criterion(a, b)"
   ]
  },
  {
   "cell_type": "code",
   "execution_count": 4,
   "id": "fb7b1782",
   "metadata": {},
   "outputs": [],
   "source": [
    "#torch.save(model.state_dict(), 'model.pth')\n",
    "model = BoldClassifier()\n",
    "model.load_state_dict(torch.load('model.pth'))\n",
    "model.eval()\n",
    "model = model.to(device).float()"
   ]
  },
  {
   "cell_type": "code",
   "execution_count": 5,
   "id": "da6ba410",
   "metadata": {},
   "outputs": [
    {
     "name": "stdout",
     "output_type": "stream",
     "text": [
      "tensor(1., device='cuda:0')\n",
      "tensor(0.9625, device='cuda:0')\n",
      "tensor(0.9750, device='cuda:0')\n",
      "tensor(1., device='cuda:0')\n",
      "tensor(0.9625, device='cuda:0')\n",
      "tensor(0.9875, device='cuda:0')\n",
      "tensor(0.9625, device='cuda:0')\n",
      "tensor(0.9750, device='cuda:0')\n",
      "tensor(0.9750, device='cuda:0')\n",
      "tensor(0.9875, device='cuda:0')\n",
      "tensor(0.9875, device='cuda:0')\n",
      "tensor(1., device='cuda:0')\n",
      "tensor(1., device='cuda:0')\n"
     ]
    }
   ],
   "source": [
    "test_transform = A.Compose([\n",
    "        A.SmallestMaxSize(max_size=input_size),\n",
    "        A.Normalize(mean=(0.485, 0.456, 0.406), std=(0.229, 0.224, 0.225)),\n",
    "        ToTensorV2(),\n",
    "])\n",
    "\n",
    "test_dataset_gen = DatasetGenerator(rtg, test_transform)\n",
    "test_dataloader = DataLoader(test_dataset_gen, batch_size=10, worker_init_fn=worker_init_fn)\n",
    "\n",
    "for imgs, labels in test_dataloader:\n",
    "    imgs = imgs.to(device)\n",
    "    labels = labels.to(device)\n",
    "    out = model(imgs)\n",
    "    _, res = torch.max(out, dim = 2)\n",
    "    print(torch.sum(res == labels).float() / (res.shape[0] * res.shape[1]))"
   ]
  },
  {
   "cell_type": "code",
   "execution_count": 6,
   "id": "df13fa56",
   "metadata": {},
   "outputs": [
    {
     "data": {
      "text/plain": [
       "0.9826923076923079"
      ]
     },
     "execution_count": 6,
     "metadata": {},
     "output_type": "execute_result"
    }
   ],
   "source": [
    "np.array([1,0.9625, 0.9750, 1, 0.9625, 0.9875, 0.9625, 0.9750, 0.9750, 0.9875,0.9875,1,1]).mean()\n"
   ]
  },
  {
   "cell_type": "code",
   "execution_count": null,
   "id": "37179fb0",
   "metadata": {},
   "outputs": [],
   "source": []
  }
 ],
 "metadata": {
  "kernelspec": {
   "display_name": "Python 3 (ipykernel)",
   "language": "python",
   "name": "python3"
  },
  "language_info": {
   "codemirror_mode": {
    "name": "ipython",
    "version": 3
   },
   "file_extension": ".py",
   "mimetype": "text/x-python",
   "name": "python",
   "nbconvert_exporter": "python",
   "pygments_lexer": "ipython3",
   "version": "3.7.13"
  }
 },
 "nbformat": 4,
 "nbformat_minor": 5
}
